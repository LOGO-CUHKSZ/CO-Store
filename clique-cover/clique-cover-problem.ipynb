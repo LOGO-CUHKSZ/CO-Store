{
 "cells": [
  {
   "cell_type": "code",
   "execution_count": 11,
   "metadata": {},
   "outputs": [],
   "source": [
    "\n",
    "import os\n",
    "import copy\n",
    "import time\n",
    "import itertools as it\n",
    "\n",
    "import networkx as nx\n",
    "import numpy as np\n"
   ]
  },
  {
   "attachments": {},
   "cell_type": "markdown",
   "metadata": {},
   "source": [
    "# Implementation of Basic function\n",
    "\n",
    "Here is some basic function to tranform SAT file to weighted_adjacency matrix and get clique from graph."
   ]
  },
  {
   "cell_type": "code",
   "execution_count": 12,
   "metadata": {},
   "outputs": [],
   "source": [
    "def read_sat(sat_path):\n",
    "    with open(sat_path) as f:\n",
    "        sat_lines = f.readlines()\n",
    "        header = sat_lines[0]\n",
    "        header_info = header.replace(\"\\n\", \"\").split(\" \")\n",
    "        vars_num = int(header_info[-2])\n",
    "        clauses_num = int(header_info[-1])\n",
    "\n",
    "        sat = [\n",
    "            [int(x) for x in line.replace(\" 0\\n\", \"\").split(\" \")]\n",
    "            for line in sat_lines[1:]\n",
    "        ]\n",
    "\n",
    "        return vars_num, clauses_num, sat\n",
    "\n",
    "\n",
    "def sat_to_lig_adjacency_matrix(sat, num_vars):\n",
    "    def get_literal_idx(x): return 2 * x - 2 if x > 0 else 2 * abs(x) - 1\n",
    "    lig_adjacency_matrix = np.zeros([2*num_vars, 2*num_vars])\n",
    "    lig_weighted_adjacency_matrix = np.zeros([2*num_vars, 2*num_vars])\n",
    "\n",
    "    for clause in sat:\n",
    "        pairs = it.combinations(clause, 2)\n",
    "        for x, y in pairs:\n",
    "            x_idx = get_literal_idx(x)\n",
    "            y_idx = get_literal_idx(y)\n",
    "            lig_adjacency_matrix[x_idx, y_idx] = 1\n",
    "            lig_adjacency_matrix[y_idx, x_idx] = 1\n",
    "            lig_weighted_adjacency_matrix[x_idx, y_idx] += 1\n",
    "            lig_weighted_adjacency_matrix[y_idx, x_idx] += 1\n",
    "    return lig_weighted_adjacency_matrix\n",
    "\n",
    "\n",
    "def get_cliques(graph, k):\n",
    "    cliques = nx.enumerate_all_cliques(graph)\n",
    "    clique_candidates = []\n",
    "    for clique in cliques:\n",
    "        if len(clique) <= k:\n",
    "            if len(clique) > 1:\n",
    "                clique_candidates.append(clique)\n",
    "        else:\n",
    "            break\n",
    "    return clique_candidates\n",
    "\n",
    "\n",
    "def cliques_to_weighted_adjacency_matrix(cliques, num_vars):\n",
    "    weighted_adjacency_matrix = np.zeros([2*num_vars, 2*num_vars])\n",
    "    for clique in cliques:\n",
    "        pairs = it.combinations(clique, 2)\n",
    "        for pair in pairs:\n",
    "            x_idx = pair[0]\n",
    "            y_idx = pair[1]\n",
    "\n",
    "            weighted_adjacency_matrix[x_idx, y_idx] += 1\n",
    "            weighted_adjacency_matrix[y_idx, x_idx] += 1\n",
    "\n",
    "    return weighted_adjacency_matrix\n",
    "\n",
    "\n",
    "def objective(x, y):\n",
    "    return np.abs(x - y).sum()/np.count_nonzero(x)\n",
    "\n",
    "\n"
   ]
  },
  {
   "attachments": {},
   "cell_type": "markdown",
   "metadata": {},
   "source": [
    "# Convenience function: `run`\n",
    "\n",
    "As like TSP notebook, I will define `run` to run a clique cover operator (algorithm) on given: weighted adjacency matrix, valid_cliques, and select_clique_num."
   ]
  },
  {
   "cell_type": "code",
   "execution_count": 13,
   "metadata": {},
   "outputs": [],
   "source": [
    "def run(cover_opt, instance, weighted_adjacency_matrix, max_clique_size, select_clique_num, num_vars):\n",
    "    print(f\"{'<' * 8} {instance} {'>' * 8}\")\n",
    "    # get the valid cliques from weighted_adjacency_matrix (graph)\n",
    "    start_time = time.time()\n",
    "    graph = nx.from_numpy_matrix(weighted_adjacency_matrix)\n",
    "    valid_cliques  = get_cliques(graph, max_clique_size)\n",
    "    print(f'cliques enumerate time: {time.time() - start_time:.4f}')\n",
    "    print(f'valid cliques num: {len(valid_cliques)}')\n",
    "\n",
    "    # select cliques from valid cliques from the valid cliques\n",
    "    # your cover_opt will be used in here\n",
    "    start_time = time.time()\n",
    "    select_cliques = cover_opt(copy.deepcopy(weighted_adjacency_matrix), valid_cliques, select_clique_num)\n",
    "    print(f'cliques cover time: {time.time() - start_time:.4f}')\n",
    "\n",
    "    # convert the selected cliques to weighted matrix and compare to the given weigthed matrix\n",
    "    weighted_adjacency_matrix_cover = cliques_to_weighted_adjacency_matrix(select_cliques, num_vars)\n",
    "    print(f'final objective: {objective(weighted_adjacency_matrix, weighted_adjacency_matrix_cover):.4f}\\n') "
   ]
  },
  {
   "attachments": {},
   "cell_type": "markdown",
   "metadata": {},
   "source": [
    "# Implement and evaluate your algorithm\n",
    "\n",
    "Your algortihm will be evaluate on three graphs (sat instances)."
   ]
  },
  {
   "cell_type": "code",
   "execution_count": 14,
   "metadata": {},
   "outputs": [
    {
     "name": "stdout",
     "output_type": "stream",
     "text": [
      "<<<<<<<< ssa2670-141.processed.cnf >>>>>>>>\n",
      "cliques enumerate time: 0.0080\n",
      "valid cliques num: 4822\n",
      "cliques cover time: 0.0001\n",
      "final objective: 1.0716\n",
      "\n",
      "<<<<<<<< mrpp_4x4#4_5.processed.cnf >>>>>>>>\n",
      "cliques enumerate time: 0.1602\n",
      "valid cliques num: 80390\n",
      "cliques cover time: 0.0001\n",
      "final objective: 1.3907\n",
      "\n",
      "<<<<<<<< bmc-ibm-7.processed.cnf >>>>>>>>\n",
      "cliques enumerate time: 10.2834\n",
      "valid cliques num: 1805257\n",
      "cliques cover time: 0.0047\n",
      "final objective: 1.4059\n",
      "\n"
     ]
    }
   ],
   "source": [
    "# write you code in here\n",
    "\n",
    "def naive_clique_cover(weighted_adjacency_matrix, valid_cliques, select_clique_num):\n",
    "    return valid_cliques[:select_clique_num]\n",
    "\n",
    "# the below code will evaluate your algorithm\n",
    "\n",
    "instances = ['ssa2670-141.processed.cnf', 'mrpp_4x4#4_5.processed.cnf', 'bmc-ibm-7.processed.cnf']\n",
    "for instance in instances:\n",
    "    sat_path = os.path.join('./formulas', instance)\n",
    "    num_vars, num_clauses, sat_instance = read_sat(sat_path)\n",
    "    weighted_adjacency_matrix = sat_to_lig_adjacency_matrix(sat_instance, num_vars)\n",
    "    max_clique_size = max([len(clause) for clause in sat_instance])\n",
    "    \n",
    "    run(naive_clique_cover, instance, weighted_adjacency_matrix, max_clique_size, num_clauses, num_vars)\n",
    "\n"
   ]
  }
 ],
 "metadata": {
  "kernelspec": {
   "display_name": "base",
   "language": "python",
   "name": "python3"
  },
  "language_info": {
   "codemirror_mode": {
    "name": "ipython",
    "version": 3
   },
   "file_extension": ".py",
   "mimetype": "text/x-python",
   "name": "python",
   "nbconvert_exporter": "python",
   "pygments_lexer": "ipython3",
   "version": "3.9.16"
  },
  "orig_nbformat": 4
 },
 "nbformat": 4,
 "nbformat_minor": 2
}
