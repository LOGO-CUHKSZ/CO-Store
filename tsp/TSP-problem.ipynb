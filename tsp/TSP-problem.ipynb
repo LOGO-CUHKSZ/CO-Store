{
 "cells": [
  {
   "cell_type": "markdown",
   "metadata": {
    "tags": []
   },
   "source": [
    "<div style=\"text-align: right\" align=\"right\"><i>Peter Norvig, 2015–2023</i></div>\n",
    "\n",
    "# The Traveling Salesperson Problem\n",
    "\n",
    "Consider the [***Traveling Salesperson Problem***](http://en.wikipedia.org/wiki/Traveling_salesman_problem) (abbreviated ***TSP***): \n",
    "\n",
    "- *Given a **set of cities** and the **distance** between each pair of cities, what is the **shortest** possible **tour** that visits each city exactly once, and returns to the starting city?*\n",
    "\n",
    "In this notebook we will develop some solutions to the problem, and more generally show *how to think about* solving  problems. Versions of the algorithms developed here are used in [serious applications](https://research.googleblog.com/2016/09/the-280-year-old-algorithm-inside.html) that millions of people rely on every day. \n",
    "\n",
    "|![](http://support.sas.com/documentation/cdl/en/ornoaug/66084/HTML/default/images/map002g.png)|\n",
    "|---|\n",
    "|[An example tour, from the TSP History page](http://www.math.uwaterloo.ca/tsp/history/pictorial/dfj.html)|\n"
   ]
  },
  {
   "cell_type": "markdown",
   "metadata": {},
   "source": [
    "# Implementation of Basic Concepts\n",
    "\n",
    "I'll go through all the  concepts from the definition and make Python implementation choices for each one:\n",
    "\n",
    "- **Distance:** The straight-line distance between two points in a two-dimensional plane (or between two cities on a map) is called the [**Euclidean distance**](http://en.wikipedia.org/wiki/Euclidean_distance). I'll implement that with a function `distance(A, B)`. This distance measure is **non-negative** and **symmetric** (the distance from `A` to `B` is the same as the distance from `B` to `A`). But not all distance metrics are like this. If you have to follow roads rather than straight lines, the distance is at the whim of the road-builders. Perhaps the distance from `A` to `B` is different than the distance from `B` to `A` because of one-way streets. Or perhaps you are taking plane flights and the total time of going from `A` to `B` to `C` is less than going directly from `A` to `C` (because `B` is a hub with frequent flights). Almost everything in this notebook still holds with a different distance function; I'll  point out where it doesn't.\n",
    "- **City:** Given the choice of a Euclidean distance function, the only thing we need to know about a city is its position on the (*x*, *y*) plane. We don't need to know the city's name, population, best restaurants, or anything else. I will define `City` so that `City(300, 100)` creates a point with *x*-coordinate 300 and *y*-coordinate 100. \n",
    "- **Set of cities:** A set of cities can be represented with a Python set. I'll use [`frozenset`](https://docs.python.org/3/library/stdtypes.html?highlight=frozenset#frozenset), which is a set that can't be changed. \n",
    "- **Tour** (also called a **cycle** or **circuit** or [**Hamiltonian path**](https://en.wikipedia.org/wiki/Hamiltonian_path)): A tour that goes from city `A` to `B` to`C` and back to `A` will be represented by the list `[A, B, C]`. \n",
    "- **Shortest**: The shortest tour is the one with the smallest total tour length. `shortest(tours)` implements this.\n",
    "- **Tour length:** The call `tour_length(tour)` gives the sum of the distances between adjacent cities in the tour (including back to the start).\n",
    "- **Valid Tour:** A tour is valid if it visits every city exactly once and returns to the start; in other words if it is  a *permutation* of the cities.  `valid_tour` implements that.\n",
    "\n",
    "Three more basic concepts, not explicitly mentioned in the definition:\n",
    "\n",
    "- **Point:** At first glance, Python does not have a builtin type for a two-dimensional point. But  there is one: [complex numbers](https://docs.python.org/3/c-api/complex.html).  \n",
    "- **Link**: A tour consists of a sequence of **links** between cities. A link can be represented implicitly by the adjacency of two cities in a tour, or explicitly by an `(A, B)` pair of cities.\n",
    "- **TSP algorithm**: A function with the signature `tsp(cities: Cities) -> Tour`.\n",
    "\n",
    "First some imports (don't worry about these; they will be explained later as they are used):"
   ]
  },
  {
   "cell_type": "code",
   "execution_count": null,
   "metadata": {},
   "outputs": [],
   "source": [
    "import functools\n",
    "import itertools\n",
    "import pathlib\n",
    "import random\n",
    "import time  \n",
    "import math\n",
    "import re\n",
    "import matplotlib.pyplot as plt      \n",
    "from collections import Counter, defaultdict, namedtuple\n",
    "from statistics  import mean, median, stdev\n",
    "from typing      import Set, List, Tuple, Iterable, Dict"
   ]
  },
  {
   "cell_type": "markdown",
   "metadata": {},
   "source": [
    "Now the implementation of the basic concepts:"
   ]
  },
  {
   "cell_type": "code",
   "execution_count": null,
   "metadata": {},
   "outputs": [],
   "source": [
    "City   = complex   # e.g. City(300, 100)\n",
    "Cities = frozenset # A set of cities\n",
    "Tour   = list      # A list of cities visited, in order\n",
    "TSP    = callable  # A TSP algorithm is a callable function\n",
    "Link   = Tuple[City, City] # A city-city link\n",
    "\n",
    "def distance(A: City, B: City) -> float: \n",
    "    \"Distance between two cities\"\n",
    "    return abs(A - B)\n",
    "\n",
    "def shortest(tours: Iterable[Tour]) -> Tour: \n",
    "    \"The tour with the smallest tour length.\"\n",
    "    return min(tours, key=tour_length)\n",
    "\n",
    "def tour_length(tour: Tour) -> float:\n",
    "    \"The total distances of each link in the tour, including the link from last back to first.\"\n",
    "    return sum(distance(tour[i], tour[i - 1]) for i in range(len(tour)))\n",
    "\n",
    "def valid_tour(tour: Tour, cities: Cities) -> bool:\n",
    "    \"Does `tour` visit every city in `cities` exactly once?\"\n",
    "    return Counter(tour) == Counter(cities)"
   ]
  },
  {
   "cell_type": "markdown",
   "metadata": {},
   "source": [
    "# Sets of Random Cities\n",
    "\n",
    "To test TSP algorithms, I'll need sets of cities. I'll define `random_cities(n)` to return a set of `n` cities, sprawled out randomly over the map. \n",
    "\n",
    "*Note*: I want to be able to do reproducible comparisons of algorithms: to run two or more algorithms on the same set of cities. Therefore `random_cities` has an optional argument, `seed`, with a default value. If you pass in the same seed, you will get back the same set of cities. This is true even after restarting with a different version of Python (it could possibly change with a major revision, as in Python 2 to Python 3). If you want a different set of *n* random cities, pass in a different seed."
   ]
  },
  {
   "cell_type": "code",
   "execution_count": null,
   "metadata": {},
   "outputs": [],
   "source": [
    "def random_cities(n, seed=1234, width=9999, height=6666) -> Cities:\n",
    "    \"Make a set of n cities, sampled uniformly from a (width x height) rectangle.\"\n",
    "    random.seed((n, seed)) # To make `random_cities` reproducible\n",
    "    return Cities(City(random.randrange(width), random.randrange(height))\n",
    "                  for c in range(n))"
   ]
  },
  {
   "cell_type": "markdown",
   "metadata": {},
   "source": [
    "# Exhaustive TSP Search Algorithm: `exhaustive_tsp`"
   ]
  },
  {
   "cell_type": "markdown",
   "metadata": {},
   "source": [
    "Let's start with an algorithm that is *guaranteed* to find the shortest tour, although inefficiently:\n",
    "\n",
    "- **Exhaustive TSP Search Algorithm**: *Generate all possible tours of the cities, and choose the shortest one.*\n",
    "\n",
    "My design philosophy is to first write an English description of the algorithm (as above), then write Python code that closely mirrors the English description. I note that the possible tours of a set of cities are the permutations of the cities. So implementing this algorithm is easy. I note that the possible tours of a set of cities are just the permutations of the city, and `permutations` is defined in the `itertools` module, so we get:"
   ]
  },
  {
   "cell_type": "code",
   "execution_count": null,
   "metadata": {},
   "outputs": [],
   "source": [
    "possible_tours = itertools.permutations \n",
    "\n",
    "def exhaustive_tsp(cities) -> Tour:\n",
    "    \"Generate all possible tours of the cities and choose the shortest one.\"\n",
    "    return shortest(possible_tours(cities))\n",
    "\n"
   ]
  },
  {
   "cell_type": "markdown",
   "metadata": {},
   "source": [
    "Let's try it on a random set of 8 cities:"
   ]
  },
  {
   "cell_type": "code",
   "execution_count": null,
   "metadata": {},
   "outputs": [],
   "source": [
    "exhaustive_tsp(random_cities(8))"
   ]
  },
  {
   "cell_type": "markdown",
   "metadata": {},
   "source": [
    "Quick, is that the shortest tour?  I can't tell, and I bet you can't either. But if I plotted the points on a map, maybe we would be enlightened.\n",
    "\n",
    "# Visualizing results: `plot_tour`\n",
    "\n",
    "I'll define `plot_tour` to plot all the cities and links in a tour, highlighting the first city. \n",
    "\n",
    "- *Vocabulary note:* A **segment** is a portion of a tour that does not loop back to the start. The **segment** `[A, B, C]` has only two links, A-B and B-C, whereas the **tour** `[A, B, C]` has three links, A-B, B-C, and C-A."
   ]
  },
  {
   "cell_type": "code",
   "execution_count": null,
   "metadata": {},
   "outputs": [],
   "source": [
    "Segment = list # A portion of a tour; it does not loop back to the start.\n",
    "\n",
    "def plot_tour(tour: Tour, style='bo-', hilite='rs', title=''): \n",
    "    \"Plot every city and link in the tour, and highlight the start city.\"\n",
    "    scale = 1 + len(tour) ** 0.5 // 10\n",
    "    plt.figure(figsize=((3 * scale, 2 * scale)))\n",
    "    start = tour[0]\n",
    "    plot_segment([*tour, start], style)\n",
    "    plot_segment([start], hilite) \n",
    "    plt.title(title)\n",
    "    \n",
    "def Xs(cities) -> List[float]: \"X coordinates\"; return [c.real for c in cities]\n",
    "def Ys(cities) -> List[float]: \"Y coordinates\"; return [c.imag for c in cities]\n",
    "\n",
    "def plot_segment(segment: Segment, style='bo:'):\n",
    "    \"Plot every city and link in the segment.\"\n",
    "    plt.plot(Xs(segment), Ys(segment), style, linewidth=2/3, markersize=4, clip_on=False)\n",
    "    plt.axis('scaled'); plt.axis('off')"
   ]
  },
  {
   "cell_type": "code",
   "execution_count": null,
   "metadata": {},
   "outputs": [],
   "source": [
    "plot_tour(exhaustive_tsp(random_cities(8)))"
   ]
  },
  {
   "cell_type": "markdown",
   "metadata": {},
   "source": [
    "The plot helps convince me that this is indeed the shortest tour.\n",
    "\n",
    "# Convenience function: `run`\n",
    "\n",
    "I will define `run` to run a TSP algorithm on a set of cities, plot the resulting tour, and print the tour length and run time."
   ]
  },
  {
   "cell_type": "code",
   "execution_count": null,
   "metadata": {},
   "outputs": [],
   "source": [
    "def run(tsp: callable, cities: Cities):\n",
    "    \"\"\"Run a TSP algorithm on a set of cities and plot/print results.\"\"\"\n",
    "    t0   = time.perf_counter()\n",
    "    tour = tsp(cities)\n",
    "    t1   = time.perf_counter()\n",
    "    L    = tour_length(tour)\n",
    "    print(f\"length {round(L):,d} tour of {len(cities)} cities in {t1 - t0:.3f} secs\")\n",
    "    plot_tour(tour)"
   ]
  },
  {
   "cell_type": "markdown",
   "metadata": {},
   "source": [
    "Here is `run` in action:"
   ]
  },
  {
   "cell_type": "code",
   "execution_count": null,
   "metadata": {},
   "outputs": [],
   "source": [
    "run(exhaustive_tsp, random_cities(8))"
   ]
  },
  {
   "attachments": {},
   "cell_type": "markdown",
   "metadata": {},
   "source": [
    "# General Strategies for Algorithm Design\n",
    "\n",
    "It takes Exhaustive Search a second or so to solve a 10-city problem, so 12 cities would take about 2 minutes (11×12 times longer), and 15 cities would take days. \n",
    "There must be a better way ... \n",
    "\n",
    "To get inspired, here are some general  strategies for algorithm design: \n",
    "\n",
    "* **Brute Force Strategy**: The strategy used for `exhaustive_tsp`; as [Ken Thompson](https://en.wikipedia.org/wiki/Ken_Thompson) [says](https://www.brainyquote.com/quotes/ken_thompson_185574?src=t_brute_force), \"*when in doubt, use brute force*.\"\n",
    "* **Approximation Strategy**: If it is too hard to find an exact, optimal solution, consider an approximate, slightly suboptimal solution.\n",
    "* **Greeedy Strategy**: To complete a multiple step problem, first do the step that appears to be best in the short run. Repeat. \n",
    "* **Improvement Strategy**: Use an existing algorithm to create a solution, then have another algorithm improve the solution.\n",
    "* **Divide and Conquer Strategy**: Split the problem in half, solve each half, and combine the two partial solutions.\n",
    "* **Ensemble Strategy**: Apply a set of algorithms to the problem, and pick the best solution. \n",
    "* **Stand on the Shoulders of Giants Strategy**: Find out what other people have done, and copy them.\n"
   ]
  },
  {
   "cell_type": "markdown",
   "metadata": {},
   "source": [
    "# Real Cities"
   ]
  },
  {
   "cell_type": "markdown",
   "metadata": {},
   "source": [
    "A tour of 3,000 random cities may look like a [Jackson Pollack](https://www.moma.org/artists/4675) painting, but I thought it would be fun to work on some *real* cities. I found a web page (now 404, but a copy is [here](https://raw.githubusercontent.com/norvig/pytudes/master/data/latlong.htm)) that lists coordinates of over 1000 cities in the USA (actually, the locations of airports in these cities), in this format:\n",
    "\n",
    "     [TCL]  33.23   87.62  Tuscaloosa,AL\n",
    "     [FLG]  35.13  111.67  Flagstaff,AZ\n",
    "     [ANC]  61.17  150.02  Anchorage,AK\n",
    "\n",
    "We can fetch the file if a local copy is not already in the current directory:"
   ]
  },
  {
   "cell_type": "code",
   "execution_count": null,
   "metadata": {},
   "outputs": [],
   "source": [
    "! [ -e latlong.htm ] || curl -O https://raw.githubusercontent.com/norvig/pytudes/master/data/latlong.htm"
   ]
  },
  {
   "cell_type": "markdown",
   "metadata": {},
   "source": [
    "I define the function `parse_cities` to extract cities from a file in this format (skipping Alaska and Hawaii):"
   ]
  },
  {
   "cell_type": "code",
   "execution_count": null,
   "metadata": {},
   "outputs": [],
   "source": [
    "def parse_cities(text, skip=('AK', 'HI'), long_scale=-48, lat_scale=69) -> Cities:\n",
    "    \"\"\"Make a set of Cities from lines of text, skipping the specified states.\"\"\"\n",
    "    return Cities(City(int(long_scale * float(long)), int(lat_scale  * float(lat)))\n",
    "                  for (lat, long, state) in re.findall(r'([\\d.]+)\\s+([\\d.]+).+([A-Z][A-Z])', text)\n",
    "                  if state not in skip)\n",
    "\n",
    "USA = parse_cities(pathlib.Path('latlong.htm').read_text())\n",
    "\n",
    "\n",
    "def naive_tsp(cities):\n",
    "    tour = [city for city in cities]\n",
    "    return tour\n",
    "\n",
    "run(naive_tsp, USA)"
   ]
  },
  {
   "cell_type": "code",
   "execution_count": null,
   "metadata": {},
   "outputs": [],
   "source": [
    "# write your code in here\n",
    "\n",
    "def local_search_tsp(cities):\n",
    "    \"\"\"need you to implement a local search for TSP\"\"\"\n",
    "    pass\n",
    "\n",
    "\n",
    "run(local_search_tsp, USA)"
   ]
  }
 ],
 "metadata": {
  "kernelspec": {
   "display_name": "Python 3 (ipykernel)",
   "language": "python",
   "name": "python3"
  },
  "language_info": {
   "codemirror_mode": {
    "name": "ipython",
    "version": 3
   },
   "file_extension": ".py",
   "mimetype": "text/x-python",
   "name": "python",
   "nbconvert_exporter": "python",
   "pygments_lexer": "ipython3",
   "version": "3.9.12"
  }
 },
 "nbformat": 4,
 "nbformat_minor": 4
}
